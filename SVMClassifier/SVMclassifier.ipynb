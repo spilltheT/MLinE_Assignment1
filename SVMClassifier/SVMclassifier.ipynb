{
 "cells": [
  {
   "cell_type": "markdown",
   "id": "57040ba7",
   "metadata": {},
   "source": [
    "## Importing necessary libraries"
   ]
  },
  {
   "cell_type": "code",
   "execution_count": 1,
   "id": "1d59e156",
   "metadata": {},
   "outputs": [],
   "source": [
    "import numpy as np\n",
    "import matplotlib as mpl\n",
    "import matplotlib.pyplot as plt\n",
    "import os\n",
    "import pandas as pd\n",
    "import matplotlib.cm as cm\n",
    "import scipy.stats as stats\n",
    "import random\n",
    "import math\n",
    "import copy\n",
    "from cvxopt import matrix, solvers\n",
    "\n",
    "mpl.rcParams['text.usetex'] = True\n",
    "mpl.rcParams['font.family'] = 'serif'\n",
    "\n",
    "AxesLabel, TickLabel = [10, 10]\n",
    "plt.rcParams.update({\n",
    "    'font.size' : TickLabel,                   # Set font size to 11pt\n",
    "    'axes.labelsize': AxesLabel,               # -> axis labels\n",
    "    'legend.fontsize': AxesLabel,              # -> legends\n",
    "    'xtick.labelsize': TickLabel,              # -> x-axis tick labels\n",
    "    'ytick.labelsize': TickLabel,              # -> y-axis tick labels\n",
    "})\n",
    "from os.path import dirname, join as pjoin\n",
    "import scipy.io as sio\n",
    "import statistics"
   ]
  },
  {
   "cell_type": "markdown",
   "id": "b40d0931",
   "metadata": {},
   "source": [
    "## Loading inner and outer fault training datasets "
   ]
  },
  {
   "cell_type": "code",
   "execution_count": 2,
   "id": "2da9219c",
   "metadata": {},
   "outputs": [],
   "source": [
    "inner = np.zeros([5,146484])\n",
    "\n",
    "inner1 = sio.loadmat('InnerRaceFault_vload_1.mat')\n",
    "inner[0,:] = inner1['bearing']['gs'][0,0].ravel()\n",
    "inner2 = sio.loadmat('InnerRaceFault_vload_2.mat')\n",
    "inner[1,:] = inner2['bearing']['gs'][0,0].ravel()\n",
    "inner3 = sio.loadmat('InnerRaceFault_vload_3.mat')\n",
    "inner[2,:] = inner3['bearing']['gs'][0,0].ravel()\n",
    "inner4 = sio.loadmat('InnerRaceFault_vload_4.mat')\n",
    "inner[3,:] = inner4['bearing']['gs'][0,0].ravel()\n",
    "inner5 = sio.loadmat('InnerRaceFault_vload_5.mat')\n",
    "inner[4,:] = inner5['bearing']['gs'][0,0].ravel()\n",
    "\n",
    "outer = np.zeros([5,146484])\n",
    "\n",
    "outer1 = sio.loadmat('OuterRaceFault_vload_1.mat')\n",
    "outer[0,:] = outer1['bearing']['gs'][0,0].ravel()\n",
    "outer2 = sio.loadmat('OuterRaceFault_vload_2.mat')\n",
    "outer[1,:] = outer2['bearing']['gs'][0,0].ravel()\n",
    "outer3 = sio.loadmat('OuterRaceFault_vload_3.mat')\n",
    "outer[2,:] = outer3['bearing']['gs'][0,0].ravel()\n",
    "outer4 = sio.loadmat('OuterRaceFault_vload_4.mat')\n",
    "outer[3,:] = outer4['bearing']['gs'][0,0].ravel()\n",
    "outer5 = sio.loadmat('OuterRaceFault_vload_5.mat')\n",
    "outer[4,:] = outer5['bearing']['gs'][0,0].ravel()"
   ]
  },
  {
   "cell_type": "markdown",
   "id": "5c3914cd",
   "metadata": {},
   "source": [
    "## Loading inner and outer fault test datasets "
   ]
  },
  {
   "cell_type": "code",
   "execution_count": 3,
   "id": "e5df4b1f",
   "metadata": {},
   "outputs": [],
   "source": [
    "innerTest = np.zeros([2,146484])\n",
    "\n",
    "inner6 = sio.loadmat('InnerRaceFault_vload_6.mat')\n",
    "innerTest[0,:] = inner6['bearing']['gs'][0,0].ravel()\n",
    "inner7 = sio.loadmat('InnerRaceFault_vload_7.mat')\n",
    "innerTest[1,:] = inner7['bearing']['gs'][0,0].ravel()\n",
    "\n",
    "outerTest = np.zeros([2,146484])\n",
    "\n",
    "outer6 = sio.loadmat('OuterRaceFault_vload_6.mat')\n",
    "outerTest[0,:] = outer6['bearing']['gs'][0,0].ravel()\n",
    "outer7 = sio.loadmat('OuterRaceFault_vload_7.mat')\n",
    "outerTest[1,:] = outer7['bearing']['gs'][0,0].ravel()"
   ]
  },
  {
   "cell_type": "markdown",
   "id": "0522ef20",
   "metadata": {},
   "source": [
    "## Computing mean for training datasets"
   ]
  },
  {
   "cell_type": "code",
   "execution_count": 4,
   "id": "60305b45",
   "metadata": {},
   "outputs": [],
   "source": [
    "innerMean = np.zeros([5,1])\n",
    "\n",
    "innerMean[0] = statistics.mean(inner1['bearing']['gs'][0,0].ravel())\n",
    "innerMean[1] = statistics.mean(inner2['bearing']['gs'][0,0].ravel())\n",
    "innerMean[2] = statistics.mean(inner3['bearing']['gs'][0,0].ravel())\n",
    "innerMean[3] = statistics.mean(inner4['bearing']['gs'][0,0].ravel())\n",
    "innerMean[4] = statistics.mean(inner5['bearing']['gs'][0,0].ravel())\n",
    "\n",
    "outerMean = np.zeros([5,1])\n",
    "\n",
    "outerMean[0] = statistics.mean(outer1['bearing']['gs'][0,0].ravel())\n",
    "outerMean[1] = statistics.mean(outer2['bearing']['gs'][0,0].ravel())\n",
    "outerMean[2] = statistics.mean(outer3['bearing']['gs'][0,0].ravel())\n",
    "outerMean[3] = statistics.mean(outer4['bearing']['gs'][0,0].ravel())\n",
    "outerMean[4] = statistics.mean(outer5['bearing']['gs'][0,0].ravel())"
   ]
  },
  {
   "cell_type": "markdown",
   "id": "4c322ff0",
   "metadata": {},
   "source": [
    "## Computing mean for test datasets"
   ]
  },
  {
   "cell_type": "code",
   "execution_count": 5,
   "id": "e93b99a7",
   "metadata": {},
   "outputs": [],
   "source": [
    "innerMeanTest = np.zeros([2,1])\n",
    "\n",
    "innerMeanTest[0] = statistics.mean(inner6['bearing']['gs'][0,0].ravel())\n",
    "innerMeanTest[1] = statistics.mean(inner7['bearing']['gs'][0,0].ravel())\n",
    "\n",
    "outerMeanTest = np.zeros([2,1])\n",
    "\n",
    "outerMeanTest[0] = statistics.mean(outer6['bearing']['gs'][0,0].ravel())\n",
    "outerMeanTest[1] = statistics.mean(outer7['bearing']['gs'][0,0].ravel())"
   ]
  },
  {
   "cell_type": "markdown",
   "id": "6c06eb18",
   "metadata": {},
   "source": [
    "## Computing standard deviation for training datasets"
   ]
  },
  {
   "cell_type": "code",
   "execution_count": 6,
   "id": "40926aae",
   "metadata": {},
   "outputs": [],
   "source": [
    "innerStdev = np.zeros([5,1])\n",
    "\n",
    "innerStdev[0] = statistics.stdev(inner1['bearing']['gs'][0,0].ravel())\n",
    "innerStdev[1] = statistics.stdev(inner2['bearing']['gs'][0,0].ravel())\n",
    "innerStdev[2] = statistics.stdev(inner3['bearing']['gs'][0,0].ravel())\n",
    "innerStdev[3] = statistics.stdev(inner4['bearing']['gs'][0,0].ravel())\n",
    "innerStdev[4] = statistics.stdev(inner5['bearing']['gs'][0,0].ravel())\n",
    "\n",
    "outerStdev = np.zeros([5,1])\n",
    "\n",
    "outerStdev[0] = statistics.stdev(outer1['bearing']['gs'][0,0].ravel())\n",
    "outerStdev[1] = statistics.stdev(outer2['bearing']['gs'][0,0].ravel())\n",
    "outerStdev[2] = statistics.stdev(outer3['bearing']['gs'][0,0].ravel())\n",
    "outerStdev[3] = statistics.stdev(outer4['bearing']['gs'][0,0].ravel())\n",
    "outerStdev[4] = statistics.stdev(outer5['bearing']['gs'][0,0].ravel())"
   ]
  },
  {
   "cell_type": "markdown",
   "id": "996b6f08",
   "metadata": {},
   "source": [
    "## Computing standard deviation for test datasets"
   ]
  },
  {
   "cell_type": "code",
   "execution_count": 7,
   "id": "8ba211ad",
   "metadata": {},
   "outputs": [],
   "source": [
    "innerStdevTest = np.zeros([2,1])\n",
    "\n",
    "innerStdevTest[0] = statistics.stdev(inner6['bearing']['gs'][0,0].ravel())\n",
    "innerStdevTest[1] = statistics.stdev(inner7['bearing']['gs'][0,0].ravel())\n",
    "\n",
    "outerStdevTest = np.zeros([2,1])\n",
    "\n",
    "outerStdevTest[0] = statistics.stdev(outer6['bearing']['gs'][0,0].ravel())\n",
    "outerStdevTest[1] = statistics.stdev(outer7['bearing']['gs'][0,0].ravel())"
   ]
  },
  {
   "cell_type": "markdown",
   "id": "f02b804f",
   "metadata": {},
   "source": [
    "## Computing skewness and kurtosis for training and test datasets"
   ]
  },
  {
   "cell_type": "code",
   "execution_count": 8,
   "id": "4fdb7143",
   "metadata": {},
   "outputs": [],
   "source": [
    "innerFluc = inner - innerMean\n",
    "innerFlucTest = innerTest - innerMeanTest\n",
    "\n",
    "innerSkewness = np.divide(np.mean(np.power(innerFluc,3),axis=1), np.power(innerStdev,3).ravel())\n",
    "innerSkewnessTest = np.divide(np.mean(np.power(innerFlucTest,3),axis=1), np.power(innerStdevTest,3).ravel())\n",
    "\n",
    "innerKurtosis = np.divide(np.mean(np.power(innerFluc,4),axis=1), np.power(innerStdev,4).ravel())\n",
    "innerKurtosisTest = np.divide(np.mean(np.power(innerFlucTest,4),axis=1), np.power(innerStdevTest,4).ravel())\n",
    "\n",
    "outerFluc = outer - outerMean\n",
    "outerFlucTest = outerTest - outerMeanTest\n",
    "\n",
    "outerSkewness = np.divide(np.mean(np.power(outerFluc,3),axis=1), np.power(outerStdev,3).ravel())\n",
    "outerSkewnessTest = np.divide(np.mean(np.power(outerFlucTest,3),axis=1), np.power(outerStdevTest,3).ravel())\n",
    "\n",
    "outerKurtosis = np.divide(np.mean(np.power(outerFluc,4),axis=1), np.power(outerStdev,4).ravel())\n",
    "outerKurtosisTest = np.divide(np.mean(np.power(outerFlucTest,4),axis=1), np.power(outerStdevTest,4).ravel())"
   ]
  },
  {
   "cell_type": "markdown",
   "id": "adc8c2c2",
   "metadata": {},
   "source": [
    "## Creating feature and label matrices"
   ]
  },
  {
   "cell_type": "code",
   "execution_count": 9,
   "id": "4584a78c",
   "metadata": {},
   "outputs": [],
   "source": [
    "innerSkewness = innerSkewness.reshape(-1, 1)\n",
    "innerKurtosis = innerKurtosis.reshape(-1, 1)\n",
    "\n",
    "matrixTemp = np.hstack((innerSkewness, innerKurtosis))\n",
    "\n",
    "innerSkewnessTest = innerSkewnessTest.reshape(-1, 1)\n",
    "innerKurtosisTest = innerKurtosisTest.reshape(-1, 1)\n",
    "\n",
    "matrixTest = np.hstack((innerSkewnessTest, innerKurtosisTest))\n",
    "\n",
    "outerSkewness = outerSkewness.reshape(-1, 1)\n",
    "outerKurtosis = outerKurtosis.reshape(-1, 1)\n",
    "\n",
    "matrix2Temp = np.hstack((outerSkewness, outerKurtosis))\n",
    "\n",
    "outerSkewnessTest = outerSkewnessTest.reshape(-1, 1)\n",
    "outerKurtosisTest = outerKurtosisTest.reshape(-1, 1)\n",
    "\n",
    "matrix2Test = np.hstack((outerSkewnessTest, outerKurtosisTest))"
   ]
  },
  {
   "cell_type": "code",
   "execution_count": 10,
   "id": "26231401",
   "metadata": {},
   "outputs": [],
   "source": [
    "x = np.vstack((matrixTemp,matrix2Temp))\n",
    "\n",
    "X = np.vstack((matrixTest,matrix2Test))"
   ]
  },
  {
   "cell_type": "code",
   "execution_count": 11,
   "id": "de5d99dc",
   "metadata": {},
   "outputs": [],
   "source": [
    "y = np.array([-1, -1, -1, -1, -1, 1, 1, 1, 1, 1])"
   ]
  },
  {
   "cell_type": "markdown",
   "id": "933b28eb",
   "metadata": {},
   "source": [
    "## Solving for lambdas using qp solver"
   ]
  },
  {
   "cell_type": "code",
   "execution_count": 12,
   "id": "5b83867b",
   "metadata": {},
   "outputs": [],
   "source": [
    "def optimisedLambdas(x,y):\n",
    "\n",
    "    H = np.zeros((y.shape[0], y.shape[0]))\n",
    "\n",
    "    for i in range(y.shape[0]):\n",
    "        for j in range(y.shape[0]):\n",
    "            H[i,j] = y[i] * y[j] * np.dot(x[i], x[j])\n",
    "\n",
    "    H = matrix(H)\n",
    "\n",
    "    q = matrix(-np.ones(y.shape[0]))\n",
    "\n",
    "    A = matrix(y.reshape(1, -1), tc = 'd')\n",
    "\n",
    "    b = matrix([0.0])\n",
    "\n",
    "    G = matrix(np.diag(np.ones(y.shape[0]) * -1))\n",
    "\n",
    "    h = matrix(np.zeros(y.shape[0]))\n",
    "\n",
    "    solution = solvers.qp(H, q, G, h, A, b)\n",
    "\n",
    "    lambdas = np.array(solution['x']).flatten()\n",
    "\n",
    "    return lambdas"
   ]
  },
  {
   "cell_type": "code",
   "execution_count": 13,
   "id": "23c9c554",
   "metadata": {},
   "outputs": [
    {
     "name": "stdout",
     "output_type": "stream",
     "text": [
      "     pcost       dcost       gap    pres   dres\n",
      " 0: -8.6196e-01 -1.5592e+00  2e+01  4e+00  2e+00\n",
      " 1: -9.2891e-01 -3.5877e-01  4e+00  8e-01  3e-01\n",
      " 2: -3.8424e-03 -1.7961e-02  6e-02  8e-03  3e-03\n",
      " 3: -3.4039e-03 -1.0715e-02  7e-03  2e-18  1e-15\n",
      " 4: -6.7043e-03 -7.8056e-03  1e-03  9e-19  9e-16\n",
      " 5: -7.7320e-03 -7.7462e-03  1e-05  2e-18  7e-16\n",
      " 6: -7.7430e-03 -7.7431e-03  1e-07  1e-18  1e-15\n",
      " 7: -7.7431e-03 -7.7431e-03  1e-09  2e-18  7e-16\n",
      "Optimal solution found.\n"
     ]
    }
   ],
   "source": [
    "lambdas = optimisedLambdas(x,y)"
   ]
  },
  {
   "cell_type": "markdown",
   "id": "3b9e7d35",
   "metadata": {},
   "source": [
    "## Solving for weight vector"
   ]
  },
  {
   "cell_type": "code",
   "execution_count": 14,
   "id": "94a39cb1",
   "metadata": {},
   "outputs": [],
   "source": [
    "def wCalculate(lambdas, x, y):\n",
    "\n",
    "    w = [0,0]\n",
    "\n",
    "    for i in range(x.shape[0]):\n",
    "        w[0] += lambdas[i]*y[i]*x[i,0]\n",
    "        w[1] += lambdas[i]*y[i]*x[i,1]\n",
    "    \n",
    "    w = np.array(w)\n",
    "\n",
    "    return w"
   ]
  },
  {
   "cell_type": "code",
   "execution_count": 15,
   "id": "5c5f8c0b",
   "metadata": {},
   "outputs": [],
   "source": [
    "w = wCalculate(lambdas, x, y)"
   ]
  },
  {
   "cell_type": "markdown",
   "id": "5e1a3092",
   "metadata": {},
   "source": [
    "## Solving for bias"
   ]
  },
  {
   "cell_type": "code",
   "execution_count": 16,
   "id": "9edd1549",
   "metadata": {},
   "outputs": [],
   "source": [
    "def bCalculate(w, sv_x, sv_y):\n",
    "    \n",
    "    bTemp = sv_y - np.dot(sv_x, w)\n",
    "\n",
    "    b = np.mean(bTemp)\n",
    "    return b"
   ]
  },
  {
   "cell_type": "code",
   "execution_count": 17,
   "id": "1f3d93e2",
   "metadata": {},
   "outputs": [],
   "source": [
    "sv = lambdas > 1e-5\n",
    "index = np.arange(len(lambdas))[sv.ravel()]\n",
    "svLambdas = lambdas[sv]\n",
    "sv_y = y[sv.ravel()]\n",
    "sv_x = x[sv.ravel()]"
   ]
  },
  {
   "cell_type": "code",
   "execution_count": 18,
   "id": "952cd180",
   "metadata": {},
   "outputs": [],
   "source": [
    "b = bCalculate(w, sv_x, sv_y)"
   ]
  },
  {
   "cell_type": "markdown",
   "id": "f6486ae8",
   "metadata": {},
   "source": [
    "## Classifying test datapoints"
   ]
  },
  {
   "cell_type": "code",
   "execution_count": 19,
   "id": "6dfa703f",
   "metadata": {},
   "outputs": [],
   "source": [
    "def classify(test, w, b):\n",
    "    decision = np.dot(w, test) + b\n",
    "    return 1 if decision > 0 else -1"
   ]
  },
  {
   "cell_type": "code",
   "execution_count": 20,
   "id": "e35d33ba",
   "metadata": {},
   "outputs": [
    {
     "data": {
      "text/plain": [
       "-1"
      ]
     },
     "execution_count": 20,
     "metadata": {},
     "output_type": "execute_result"
    }
   ],
   "source": [
    "classify(X[0], w, b)"
   ]
  },
  {
   "cell_type": "code",
   "execution_count": 22,
   "id": "2c136d3f",
   "metadata": {},
   "outputs": [
    {
     "data": {
      "text/plain": [
       "-1"
      ]
     },
     "execution_count": 22,
     "metadata": {},
     "output_type": "execute_result"
    }
   ],
   "source": [
    "classify(X[1], w, b)"
   ]
  },
  {
   "cell_type": "code",
   "execution_count": 23,
   "id": "f85b17fc",
   "metadata": {},
   "outputs": [
    {
     "data": {
      "text/plain": [
       "1"
      ]
     },
     "execution_count": 23,
     "metadata": {},
     "output_type": "execute_result"
    }
   ],
   "source": [
    "classify(X[2], w, b)"
   ]
  },
  {
   "cell_type": "code",
   "execution_count": 24,
   "id": "df47420d",
   "metadata": {},
   "outputs": [
    {
     "data": {
      "text/plain": [
       "1"
      ]
     },
     "execution_count": 24,
     "metadata": {},
     "output_type": "execute_result"
    }
   ],
   "source": [
    "classify(X[3], w, b)"
   ]
  },
  {
   "cell_type": "markdown",
   "id": "b87a9a64",
   "metadata": {},
   "source": [
    "## Plotting"
   ]
  },
  {
   "cell_type": "code",
   "execution_count": 25,
   "id": "3c720f93",
   "metadata": {},
   "outputs": [
    {
     "data": {
      "image/png": "[encoded data removed]",
      "text/plain": [
       "<Figure size 800x600 with 1 Axes>"
      ]
     },
     "metadata": {},
     "output_type": "display_data"
    }
   ],
   "source": [
    "x1 = np.linspace(-0.5, 1.5, 100)\n",
    "\n",
    "x2 = (-w[0] / w[1]) * x1 - b / w[1]\n",
    "\n",
    "plt.figure(figsize=(8, 6))\n",
    "plt.plot(x1, x2, label='Hyperplane')\n",
    "plt.scatter(innerSkewness, innerKurtosis, 80, color='lightcoral', label='Inner Fault')\n",
    "plt.scatter(outerSkewness, outerKurtosis, 80, color='mediumpurple', label='Outer Fault')\n",
    "plt.scatter(X[0,0], X[0,1], 80, marker = 's', color='k', label='Test Point 1')\n",
    "plt.scatter(X[1,0], X[1,1], 80, marker = '^', color='k', label='Test Point 2')\n",
    "plt.scatter(X[2,0], X[2,1], 80, marker = 'P', color='k', label='Test Point 3')\n",
    "plt.scatter(X[3,0], X[3,1], 80, marker = '*', color='k', label='Test Point 4')\n",
    "\n",
    "plt.xlabel('Skewness')\n",
    "plt.ylabel('Kurtosis')\n",
    "plt.legend()\n",
    "\n",
    "plt.savefig('Plots/2bi.pdf', bbox_inches='tight')"
   ]
  },
  {
   "cell_type": "markdown",
   "id": "3e86dfd6",
   "metadata": {},
   "source": [
    "## Similar SVM analysis as above except now training and test datasets are divided into sub intervals"
   ]
  },
  {
   "cell_type": "code",
   "execution_count": 27,
   "id": "e2a4a8cf",
   "metadata": {},
   "outputs": [],
   "source": [
    "num = 10\n",
    "subSize = inner.shape[1] // num\n",
    "\n",
    "innerSkewSub = []\n",
    "innerKurtosisSub = []\n",
    "outerSkewSub = []\n",
    "outerKurtosisSub = []\n",
    "\n",
    "innerSkewSubTest = []\n",
    "innerKurtosisSubTest = []\n",
    "outerSkewSubTest = []\n",
    "outerKurtosisSubTest = []\n",
    "\n",
    "for i in range(num):\n",
    "    for j in range(5):\n",
    "        startInd = i * subSize\n",
    "        endInd = (i + 1) * subSize\n",
    "\n",
    "        innerSub = inner[j][startInd:endInd]\n",
    "        outerSub = outer[j][startInd:endInd]\n",
    "\n",
    "        tempInnerSkew = stats.skew(innerSub)\n",
    "        tempInnerKurtosis = stats.kurtosis(innerSub)\n",
    "        tempOuterSkew = stats.skew(outerSub)\n",
    "        tempOuterKurtosis = stats.kurtosis(outerSub)\n",
    "\n",
    "        innerSkewSub.append(tempInnerSkew)\n",
    "        innerKurtosisSub.append(tempInnerKurtosis)\n",
    "        outerSkewSub.append(tempOuterSkew)\n",
    "        outerKurtosisSub.append(tempOuterKurtosis)\n",
    "        \n",
    "for i in range(num):\n",
    "    for j in range(2):\n",
    "        startInd = i * subSize\n",
    "        endInd = (i + 1) * subSize\n",
    "\n",
    "        innerSubTest = innerTest[j][startInd:endInd]\n",
    "        outerSubTest = outerTest[j][startInd:endInd]\n",
    "\n",
    "        tempInnerSkewTest = stats.skew(innerSubTest)\n",
    "        tempInnerKurtosisTest = stats.kurtosis(innerSubTest)\n",
    "        tempOuterSkewTest = stats.skew(outerSubTest)\n",
    "        tempOuterKurtosisTest = stats.kurtosis(outerSubTest)\n",
    "\n",
    "        innerSkewSubTest.append(tempInnerSkewTest)\n",
    "        innerKurtosisSubTest.append(tempInnerKurtosisTest)\n",
    "        outerSkewSubTest.append(tempOuterSkewTest)\n",
    "        outerKurtosisSubTest.append(tempOuterKurtosisTest)"
   ]
  },
  {
   "cell_type": "code",
   "execution_count": 28,
   "id": "aebb3001",
   "metadata": {},
   "outputs": [],
   "source": [
    "innerSkewSub = np.array(innerSkewSub).reshape(-1, 1)\n",
    "innerKurtosisSub = np.array(innerKurtosisSub).reshape(-1, 1)\n",
    "\n",
    "innerSkewSubTest = np.array(innerSkewSubTest).reshape(-1, 1)\n",
    "innerKurtosisSubTest = np.array(innerKurtosisSubTest).reshape(-1, 1)\n",
    "\n",
    "matrixSub = np.hstack((innerSkewSub, innerKurtosisSub))\n",
    "matrixSubTest = np.hstack((innerSkewSubTest, innerKurtosisSubTest))\n",
    "\n",
    "outerSkewSub = np.array(outerSkewSub).reshape(-1, 1)\n",
    "outerKurtosisSub = np.array(outerKurtosisSub).reshape(-1, 1)\n",
    "outerSkewSubTest = np.array(outerSkewSubTest).reshape(-1, 1)\n",
    "outerKurtosisSubTest = np.array(outerKurtosisSubTest).reshape(-1, 1)\n",
    "\n",
    "matrix2Sub = np.hstack((outerSkewSub, outerKurtosisSub))\n",
    "matrix2SubTest = np.hstack((outerSkewSubTest, outerKurtosisSubTest))"
   ]
  },
  {
   "cell_type": "code",
   "execution_count": 29,
   "id": "44758b4c",
   "metadata": {},
   "outputs": [],
   "source": [
    "x1 = np.vstack((matrixSub,matrix2Sub))\n",
    "X1 = np.vstack((matrixSubTest,matrix2SubTest))\n",
    "\n",
    "yInner = np.full((50, 1), -1)\n",
    "yOuter = np.full((50, 1), 1)\n",
    "\n",
    "y1 = np.vstack((yInner, yOuter))"
   ]
  },
  {
   "cell_type": "code",
   "execution_count": 30,
   "id": "8a18b8dc",
   "metadata": {},
   "outputs": [
    {
     "name": "stdout",
     "output_type": "stream",
     "text": [
      "     pcost       dcost       gap    pres   dres\n",
      " 0: -1.2355e+01 -2.3936e+01  4e+02  2e+01  2e+00\n",
      " 1: -1.3854e+01 -1.2672e+01  2e+02  9e+00  9e-01\n",
      " 2: -1.2196e+01 -4.8896e+00  9e+01  4e+00  4e-01\n",
      " 3: -3.9605e-01 -3.8060e-02  5e+00  2e-01  2e-02\n",
      " 4: -1.6003e-03 -2.9470e-02  6e-02  1e-03  1e-04\n",
      " 5: -1.0376e-02 -2.1123e-02  2e-02  4e-04  4e-05\n",
      " 6: -1.4814e-02 -2.1518e-02  8e-03  6e-05  5e-06\n",
      " 7: -2.0627e-02 -2.0806e-02  2e-04  7e-07  7e-08\n",
      " 8: -2.0749e-02 -2.0750e-02  2e-06  7e-09  7e-10\n",
      " 9: -2.0750e-02 -2.0750e-02  2e-08  7e-11  7e-12\n",
      "Optimal solution found.\n"
     ]
    }
   ],
   "source": [
    "lambdas1 = optimisedLambdas(x1,y1)"
   ]
  },
  {
   "cell_type": "code",
   "execution_count": 31,
   "id": "9dbae4b7",
   "metadata": {},
   "outputs": [],
   "source": [
    "w1 = wCalculate(lambdas1, x1, y1)"
   ]
  },
  {
   "cell_type": "code",
   "execution_count": 32,
   "id": "91d6e7ba",
   "metadata": {},
   "outputs": [],
   "source": [
    "sv1 = lambdas1 > 1e-5\n",
    "index = np.arange(len(lambdas1))[sv1.ravel()]\n",
    "svLambdas1 = lambdas1[sv1]\n",
    "sv_y1 = y1[sv1.ravel()]\n",
    "sv_x1 = x1[sv1.ravel()]"
   ]
  },
  {
   "cell_type": "code",
   "execution_count": 33,
   "id": "40f9ed3f",
   "metadata": {},
   "outputs": [],
   "source": [
    "b1 = bCalculate(w1, sv_x1, sv_y1)"
   ]
  },
  {
   "cell_type": "code",
   "execution_count": 34,
   "id": "621c2fc5",
   "metadata": {
    "scrolled": false
   },
   "outputs": [
    {
     "data": {
      "image/png": "[encoded data removed]",
      "text/plain": [
       "<Figure size 800x600 with 1 Axes>"
      ]
     },
     "metadata": {},
     "output_type": "display_data"
    }
   ],
   "source": [
    "x1 = np.linspace(-0.5, 1.5, 100)\n",
    "\n",
    "x2 = (-w1[0] / w1[1]) * x1 - b1 / w1[1]\n",
    "\n",
    "plt.figure(figsize=(8, 6))\n",
    "plt.plot(x1, x2, label='Hyperplane')\n",
    "plt.scatter(innerSkewSub, innerKurtosisSub, 80, color='lightcoral', label='Inner Fault')\n",
    "plt.scatter(outerSkewSub, outerKurtosisSub, 80, color='mediumpurple', label='Outer Fault')\n",
    "plt.scatter(X1[0:20,0], X1[0:20,1], 80, marker = 's', color='k', label='Inner Fault Test Points')\n",
    "plt.scatter(X1[20:40,0], X1[20:40,1], 80, marker = '^', color='k', label='Outer Fault Test Points')\n",
    "\n",
    "plt.xlabel('Skewness')\n",
    "plt.ylabel('Kurtosis')\n",
    "plt.legend()\n",
    "\n",
    "plt.savefig('Plots/2bii.pdf', bbox_inches='tight')"
   ]
  },
  {
   "cell_type": "markdown",
   "id": "24611166",
   "metadata": {},
   "source": [
    "# Alternative Approach"
   ]
  },
  {
   "cell_type": "code",
   "execution_count": 35,
   "id": "55cd477a",
   "metadata": {},
   "outputs": [],
   "source": [
    "def fx(xi, yi, lambdas, b, x):\n",
    "    val = b\n",
    "    \n",
    "    for i in range(x.shape[0]):\n",
    "        val += lambdas[i] * y[i] * ((xi[i, :].T@x))\n",
    "    return val"
   ]
  },
  {
   "cell_type": "code",
   "execution_count": 36,
   "id": "165bf197",
   "metadata": {},
   "outputs": [],
   "source": [
    "tol = 10**-6\n",
    "C = 0.01\n",
    "dPoints = x.shape[0]\n",
    "passes = 0\n",
    "b = 0\n",
    "lambdas = np.zeros((dPoints,1))\n",
    "lambdasOld = np.zeros((dPoints,1))\n",
    "E = np.zeros((dPoints,1))\n",
    "maxPasses = 30\n",
    "\n",
    "while passes < maxPasses:\n",
    "    numChangedLambdas = 0\n",
    "    \n",
    "    for i in range(dPoints): \n",
    "        E[i] = fx(x, y, lambdas, b, x[i,:]) - y[i]\n",
    "        if (y[i]*E[i] < -tol and lambdas[i] < C) or (y[i]*E[i] > tol and lambdas[i] > 0):\n",
    "            j = random.randrange(dPoints)\n",
    "            while j == i:\n",
    "                j = random.randrange(dPoints)\n",
    "                \n",
    "            E[j] = fx(x, y, lambdas, b, x[j,:]) - y[j]\n",
    "            \n",
    "            lambdasOld[i] = lambdas[i]\n",
    "            lambdasOld[j] = lambdas[j]\n",
    "            \n",
    "            if y[i] != y[j]:\n",
    "                L = max(0, lambdas[j] - lambdas[i])\n",
    "                H = min(C, C + lambdas[j] - lambdas[i])\n",
    "            else:\n",
    "                L = max(0, lambdas[i] + lambdas[j] - C)\n",
    "                H = min(C, lambdas[i] + lambdas[j])\n",
    "                \n",
    "            if L == H:\n",
    "                continue\n",
    "            \n",
    "            eta = 2 * np.dot(x[i,:], x[j,:]) - np.dot(x[i,:], x[i,:]) - np.dot(x[j,:], x[j,:])\n",
    "            \n",
    "            if eta == 0:\n",
    "                continue\n",
    "            \n",
    "            lambdas[j] = lambdas[j] - (y[j] * (E[i] - E[j])) / eta\n",
    "            \n",
    "            if lambdas[j] > H:\n",
    "                lambdas[j] = H\n",
    "            elif lambdas[j] < L:\n",
    "                lambdas[j] = L\n",
    "               \n",
    "            if abs(lambdas[j] - lambdasOld[j]) < tol:\n",
    "                continue\n",
    "                \n",
    "            lambdas[i] = lambdas[i] + y[i]*y[j]*(lambdasOld[j] - lambdas[j])\n",
    "            \n",
    "            numChangedLambdas += 1\n",
    "    \n",
    "    if numChangedLambdas == 0:\n",
    "        passes += 1\n",
    "    else:\n",
    "        passes = 0"
   ]
  }
 ],
 "metadata": {
  "kernelspec": {
   "display_name": "Python 3 (ipykernel)",
   "language": "python",
   "name": "python3"
  },
  "language_info": {
   "codemirror_mode": {
    "name": "ipython",
    "version": 3
   },
   "file_extension": ".py",
   "mimetype": "text/x-python",
   "name": "python",
   "nbconvert_exporter": "python",
   "pygments_lexer": "ipython3",
   "version": "3.9.13"
  }
 },
 "nbformat": 4,
 "nbformat_minor": 5
}
